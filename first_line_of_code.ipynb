{
 "cells": [
  {
   "cell_type": "code",
   "execution_count": 1,
   "id": "5483b6a5",
   "metadata": {},
   "outputs": [
    {
     "name": "stdout",
     "output_type": "stream",
     "text": [
      "My name is Shin\n",
      "The date is 13 September 2022\n"
     ]
    }
   ],
   "source": [
    "# This is not my first line of code hehe\n",
    "print(\"My name is Shin\")\n",
    "print(\"The date is 13 September 2022\")"
   ]
  },
  {
   "cell_type": "code",
   "execution_count": 2,
   "id": "31c87daa",
   "metadata": {},
   "outputs": [],
   "source": [
    "# Write a program to analyse real estate data\n",
    "a = 45000\n",
    "b = 23400\n",
    "c = 67000\n",
    "d = 34600\n",
    "e = 12900"
   ]
  },
  {
   "cell_type": "code",
   "execution_count": 3,
   "id": "b54057af",
   "metadata": {},
   "outputs": [],
   "source": [
    "total_sales = a + b + c + d + e\n",
    "average_sales = total_sales / 5\n",
    "property_price_c = c - 6500"
   ]
  },
  {
   "cell_type": "code",
   "execution_count": 4,
   "id": "41533004",
   "metadata": {},
   "outputs": [
    {
     "name": "stdout",
     "output_type": "stream",
     "text": [
      "182900\n",
      "36580.0\n",
      "60500\n"
     ]
    }
   ],
   "source": [
    "print(total_sales)\n",
    "print(average_sales)\n",
    "print(property_price_c)"
   ]
  },
  {
   "cell_type": "code",
   "execution_count": null,
   "id": "ae23606d",
   "metadata": {},
   "outputs": [],
   "source": []
  }
 ],
 "metadata": {
  "kernelspec": {
   "display_name": "Python 3",
   "language": "python",
   "name": "python3"
  },
  "language_info": {
   "codemirror_mode": {
    "name": "ipython",
    "version": 3
   },
   "file_extension": ".py",
   "mimetype": "text/x-python",
   "name": "python",
   "nbconvert_exporter": "python",
   "pygments_lexer": "ipython3",
   "version": "3.8.8"
  }
 },
 "nbformat": 4,
 "nbformat_minor": 5
}
